{
  "nbformat": 4,
  "nbformat_minor": 0,
  "metadata": {
    "colab": {
      "provenance": [],
      "authorship_tag": "ABX9TyMSSiOldQ7dr3GPeUiIKXr2",
      "include_colab_link": true
    },
    "kernelspec": {
      "name": "python3",
      "display_name": "Python 3"
    },
    "language_info": {
      "name": "python"
    }
  },
  "cells": [
    {
      "cell_type": "markdown",
      "metadata": {
        "id": "view-in-github",
        "colab_type": "text"
      },
      "source": [
        "<a href=\"https://colab.research.google.com/github/brunacpg/MVP-Machine-Learning/blob/main/MVP_Ci%C3%AAncia_de_dados_e_Analytcs_Machine_Learning.ipynb\" target=\"_parent\"><img src=\"https://colab.research.google.com/assets/colab-badge.svg\" alt=\"Open In Colab\"/></a>"
      ]
    },
    {
      "cell_type": "markdown",
      "source": [
        "# **Definição do Problema**\n",
        "\n",
        "## **Objetivo**\n",
        "O objetivo deste projeto é aplicar técnicas de Processamento de Linguagem Natural (NLP) para analisar as avaliações dos consumidores da Amazon. Isso inclui:\n",
        "1. **Análise de Sentimentos**: Identificar se as avaliações expressam satisfação ou insatisfação (polaridade positiva ou negativa).\n",
        "2. **Extração de Tópicos**: Descobrir os principais temas abordados nas avaliações (ex.: qualidade, preço, entrega).\n",
        "\n",
        "Essa análise ajudará a entender os fatores que contribuem para boas ou más avaliações, oferecendo insights valiosos que podem ser usados para melhorar a experiência do cliente e os produtos.\n",
        "\n",
        "## **Descrição do Problema**\n",
        "Os consumidores frequentemente compartilham suas opiniões em plataformas como a Amazon, onde deixam feedbacks detalhados sobre produtos. Essas avaliações contêm informações valiosas, mas não estruturadas, que podem ser usadas para responder a questões como:\n",
        "- Quais fatores levam à satisfação ou insatisfação dos clientes?\n",
        "- Como as avaliações se correlacionam com a pontuação geral dos produtos?\n",
        "- Quais palavras-chave ou tópicos são mais comuns em avaliações positivas e negativas?\n",
        "\n",
        "Para explorar essas questões, utilizaremos técnicas modernas de NLP, como análise de sentimentos e modelagem de tópicos, em conjunto com o dataset disponível.\n",
        "\n",
        "## **Premissas e Hipóteses**\n",
        "- **Premissas**:\n",
        "  - Avaliações com pontuação alta (4 ou 5) representam satisfação, enquanto pontuações baixas (1 ou 2) indicam insatisfação.\n",
        "  - Os textos das avaliações contêm informações mais detalhadas sobre o que os consumidores gostam ou não nos produtos.\n",
        "- **Hipóteses**:\n",
        "  - Palavras relacionadas a \"qualidade\", \"preço\" e \"funcionalidade\" aparecem com frequência em avaliações positivas.\n",
        "  - Problemas de \"durabilidade\" ou \"descrições enganosas\" são mencionados em avaliações negativas.\n",
        "\n",
        "## **Restrições e Condições**\n",
        "- **Tamanho do dataset**: Este conjunto de dados contém 568.454 avaliações, o que é suficiente para análises robustas, mas pode exigir estratégias de amostragem ou otimização de recursos.\n",
        "- **Foco na análise textual**: As colunas `Summary` e `Text` serão as principais fontes de informações textuais. A coluna `Score` será usada como rótulo para classificação de sentimentos.\n",
        "- **Restrições técnicas**: Trabalhar com dados textuais pode ser computacionalmente caro. Usaremos estratégias otimizadas e modelos pré-treinados para eficiência.\n",
        "\n",
        "## **Descrição do Dataset**\n",
        "- **Total de Registros**: 28.423\n",
        "- **Total de Colunas**: 10\n",
        "- **Atributos Disponíveis**:\n",
        "  1. **Id**: Identificador único da avaliação.\n",
        "  2. **ProductId**: Identificador do produto avaliado.\n",
        "  3. **UserId**: Identificador do usuário que escreveu a avaliação.\n",
        "  4. **ProfileName**: Nome do perfil do usuário.\n",
        "  5. **HelpfulnessNumerator**: Número de pessoas que acharam a avaliação útil.\n",
        "  6. **HelpfulnessDenominator**: Total de pessoas que avaliaram a utilidade do feedback.\n",
        "  7. **Score**: Nota dada ao produto (1 a 5).\n",
        "  8. **Time**: Data da avaliação em formato timestamp.\n",
        "  9. **Summary**: Resumo curto da avaliação.\n",
        "  10. **Text**: Texto completo da avaliação, com detalhes sobre a opinião do cliente.\n",
        "\n",
        "## **Processamento de Linguagem Natural**\n",
        "- **Análise de Sentimentos**:\n",
        "  - Transformaremos as avaliações textuais (`Text`) em um problema de classificação, usando `Score` como variável alvo.\n",
        "  - Exemplo: 4 e 5 → Positivo, 1 e 2 → Negativo, e 3 → Neutro ou descartado.\n",
        "- **Extração de Tópicos**:\n",
        "  - Descobriremos os tópicos mais frequentes nas avaliações (ex.: \"qualidade\", \"entrega\")\n",
        "\n",
        "\n",
        "\n",
        "\n"
      ],
      "metadata": {
        "id": "9W0fs-MY_Zk9"
      }
    }
  ]
}